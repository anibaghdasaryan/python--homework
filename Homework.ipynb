{
 "cells": [
  {
   "cell_type": "code",
   "execution_count": 1,
   "metadata": {},
   "outputs": [
    {
     "name": "stdout",
     "output_type": "stream",
     "text": [
      "Enter Hours:25\n",
      "Enter Rate :2.75\n",
      "Pay: 68.75\n"
     ]
    }
   ],
   "source": [
    "a = float(input('Enter Hours:'))\n",
    "b = float(input('Enter Rate :'))\n",
    "p = a*b\n",
    "print('Pay:',p)\n",
    "     "
   ]
  },
  {
   "cell_type": "code",
   "execution_count": 3,
   "metadata": {},
   "outputs": [
    {
     "name": "stdout",
     "output_type": "stream",
     "text": [
      "Enter degree Fahrenheit:0\n",
      "degree Celsius: -17.77777777777778\n"
     ]
    }
   ],
   "source": [
    "f = float (input('Enter degree Fahrenheit:'))\n",
    "c = (f-32)/1.8\n",
    "print ('degree Celsius:',c)\n"
   ]
  },
  {
   "cell_type": "code",
   "execution_count": 5,
   "metadata": {},
   "outputs": [
    {
     "name": "stdout",
     "output_type": "stream",
     "text": [
      "Enter the horizontal number from a to h:a\n",
      "Enter the vertical number from 1 to 8:8\n",
      "a8 white\n"
     ]
    }
   ],
   "source": [
    "h = input('Enter the horizontal number from a to h:')\n",
    "v = int(input('Enter the vertical number from 1 to 8:'))\n",
    "a = ['a','c','e','g']\n",
    "b = ['b','d','f','h']\n",
    "if h in a:\n",
    "    if v%2==0:\n",
    "        print (h+str(v),'white')\n",
    "    else:\n",
    "        print (h+str(v),'black')\n",
    "elif h in b:\n",
    "    if v%2==0:\n",
    "        print (h+str(v),'black')\n",
    "    else :\n",
    "        print (h+str(v),'white')\n",
    "    \n"
   ]
  },
  {
   "cell_type": "code",
   "execution_count": 6,
   "metadata": {},
   "outputs": [
    {
     "name": "stdout",
     "output_type": "stream",
     "text": [
      "Enter the letter of the English alphabet: y\n",
      "Letter y vowel and consonant:\n"
     ]
    }
   ],
   "source": [
    "v = ['a','e','i','o','u','y']\n",
    "c = ['b','c','d','f','g','h','j','k','l','m','n','p','q','r','s','t','v','w','x','y','z']\n",
    "a = input('Enter the letter of the English alphabet: ')\n",
    "if (a == 'y'):\n",
    "    print ('Letter',a,'vowel and consonant:')\n",
    "elif  a in v:\n",
    "    print ('Letter',a,'vowel:')\n",
    "elif a in c:\n",
    "    print ('Letter',a,'consonant:')\n",
    "        \n",
    "        "
   ]
  },
  {
   "cell_type": "code",
   "execution_count": null,
   "metadata": {},
   "outputs": [],
   "source": []
  }
 ],
 "metadata": {
  "kernelspec": {
   "display_name": "Python 3",
   "language": "python",
   "name": "python3"
  },
  "language_info": {
   "codemirror_mode": {
    "name": "ipython",
    "version": 3
   },
   "file_extension": ".py",
   "mimetype": "text/x-python",
   "name": "python",
   "nbconvert_exporter": "python",
   "pygments_lexer": "ipython3",
   "version": "3.7.3"
  }
 },
 "nbformat": 4,
 "nbformat_minor": 2
}
