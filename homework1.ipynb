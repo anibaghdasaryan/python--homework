{
 "cells": [
  {
   "cell_type": "code",
   "execution_count": 9,
   "metadata": {},
   "outputs": [
    {
     "name": "stdout",
     "output_type": "stream",
     "text": [
      "Enter a number:4\n",
      "Enter a nuber:5\n",
      "Enter a nuber:bad data\n",
      "Invalid input\n",
      "Enter a nuber:7\n",
      "Enter a nuber:done\n",
      "16 3 5.333333333333333\n"
     ]
    }
   ],
   "source": [
    "a = input('Enter a number:')\n",
    "s = 0\n",
    "t = 0\n",
    "while a !='done':\n",
    "    try :\n",
    "        a = int(a)\n",
    "        s = s+a\n",
    "        t = t+1\n",
    "    except:\n",
    "        print('Invalid input')\n",
    "    a = input('Enter a nuber:')    \n",
    "if a =='done':\n",
    "    print(s,t,s/t)\n",
    "\n",
    "\n"
   ]
  },
  {
   "cell_type": "code",
   "execution_count": null,
   "metadata": {},
   "outputs": [],
   "source": []
  }
 ],
 "metadata": {
  "kernelspec": {
   "display_name": "Python 3",
   "language": "python",
   "name": "python3"
  },
  "language_info": {
   "codemirror_mode": {
    "name": "ipython",
    "version": 3
   },
   "file_extension": ".py",
   "mimetype": "text/x-python",
   "name": "python",
   "nbconvert_exporter": "python",
   "pygments_lexer": "ipython3",
   "version": "3.7.3"
  }
 },
 "nbformat": 4,
 "nbformat_minor": 2
}
