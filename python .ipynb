{
 "cells": [
  {
   "cell_type": "markdown",
   "id": "68a6bd60",
   "metadata": {},
   "source": [
    "Վարժություն 1.1\n",
    "Ի՞նչ կպատասխանի ինտերպրետատորը ներքևում գրված արտահայտություններից յուրաքանչյուրին\n",
    ">>> 10\n",
    "10\n",
    ">>> 5 + 3 + 12\n",
    "20\n",
    ">>> 9 - 2\n",
    "7\n",
    ">>> 20 / 2\n",
    "10.0\n",
    ">>> (4 * 2) - (2 * 3)\n",
    "2\n",
    ">>> a = 3\n",
    ">>> b = a + 1\n",
    ">>> a + b + (a * b)\n",
    "19\n"
   ]
  },
  {
   "cell_type": "code",
   "execution_count": 77,
   "id": "99a6a498",
   "metadata": {},
   "outputs": [
    {
     "name": "stdout",
     "output_type": "stream",
     "text": [
      "13\n"
     ]
    }
   ],
   "source": [
    "#Վարժություն 1.3\n",
    "def sum_max(a,b,c):\n",
    "    s = 0\n",
    "    if a>=b and a>=c:\n",
    "        if b>c:\n",
    "            s = a**2+b**2\n",
    "        else:\n",
    "            s = a**2+c**2\n",
    "    if b>=a and b>=c:\n",
    "        if a>c:                        \n",
    "            s = b**2+a**2\n",
    "        else:\n",
    "            s = b**2+c**2\n",
    "    if c>=a and c>=b:\n",
    "        if a>b:\n",
    "            s = c**2+a**2\n",
    "        else:\n",
    "            s = c**2+b**2\n",
    "    return s         \n",
    "print(sum_max(1,2,3))            \n",
    "            "
   ]
  },
  {
   "cell_type": "markdown",
   "id": "d30cf353",
   "metadata": {},
   "source": [
    "Վարժություն 1.4\n",
    "\n",
    "Նկարագրեք հետևյալ ֆունկցիայի աշխատանքը\n",
    "\n",
    "def a_plus_abs_b(a, b):\n",
    "\tif b > 0:\n",
    "\t\treturn a + b\n",
    "\telse:\n",
    "\t\treturn a - b \n",
    "Եթե b թիվը դրական է, վերադարձնում է a եւ b թիվերի գումարը, մնացած բոլոր դեպքերում վերադարձնում է a եւ b թիվերի տարբերությունը։\n",
    "        \n",
    "Ինչո՞վ է այն տարբերվում հետևյալ սահմանումից\n",
    "\n",
    "def a_plus_abs_b(a, b):\n",
    "\tif b > 0:\n",
    "\t\treturn a + b\n",
    "\treturn a - b\n",
    "\n",
    "Ոչ մի տարբերություն"
   ]
  },
  {
   "cell_type": "code",
   "execution_count": null,
   "id": "fb207b6d",
   "metadata": {},
   "outputs": [],
   "source": [
    "#Վարժություն 1.5\n",
    "def sum_a_b_(a,b):\n",
    "    s = 0\n",
    "    while a<=b:\n",
    "        s+=a\n",
    "        a = a+1\n",
    "    return s\n",
    "print(sum_a_b(1,2))\n"
   ]
  },
  {
   "cell_type": "code",
   "execution_count": 5,
   "id": "ea3577c5",
   "metadata": {},
   "outputs": [
    {
     "name": "stdout",
     "output_type": "stream",
     "text": [
      "6\n"
     ]
    }
   ],
   "source": [
    "#Վարժություն 1.6\n",
    "def sum_a_b(a,b):\n",
    "    s = 0\n",
    "    if b>=a:\n",
    "        while a<=b:\n",
    "            s+=a\n",
    "            a=a+1\n",
    "        return s\n",
    "    else:\n",
    "        while b<=a:\n",
    "            s+=b\n",
    "            b = b+1\n",
    "        return s\n",
    "print(sum_a_b(3,1))    \n"
   ]
  },
  {
   "cell_type": "code",
   "execution_count": 9,
   "id": "ffd030f8",
   "metadata": {},
   "outputs": [
    {
     "name": "stdout",
     "output_type": "stream",
     "text": [
      "0.25\n"
     ]
    }
   ],
   "source": [
    "#Վարժություն 1.7\n",
    "def pow_a_b(a,b):\n",
    "    if b<0 and a==0:\n",
    "        return None\n",
    "    res = 1\n",
    "    count = 0\n",
    "    if b>0:\n",
    "        while count<b:\n",
    "            res = res*a\n",
    "            count+=1\n",
    "        return res\n",
    "    elif b<0:\n",
    "        while count<abs(b):\n",
    "            res = res*a\n",
    "            count+=1\n",
    "        return (1/res)\n",
    "    else:\n",
    "        return 1\n",
    "print(pow_a_b(2,-2))    \n"
   ]
  },
  {
   "cell_type": "code",
   "execution_count": 146,
   "id": "7b086267",
   "metadata": {},
   "outputs": [
    {
     "name": "stdout",
     "output_type": "stream",
     "text": [
      "2.0\n"
     ]
    }
   ],
   "source": [
    "#Վարժություն 1.8\n",
    "\n",
    "def newton(n,m):\n",
    "    n1 = ((m / (n ** 2)) + (2 * n))/ 3\n",
    "    while n-n1>0.0000000001:\n",
    "        n = n1\n",
    "        n1 = ((m / (n ** 2)) + (2 * n))/ 3\n",
    "    return n\n",
    "print(newton(2.2,8))\n"
   ]
  },
  {
   "cell_type": "markdown",
   "id": "8a7b8a15",
   "metadata": {},
   "source": [
    "Վարժություն 1.9\n",
    "add2 ֆունկցիան պոչավոր ռեկուրսիվ է, քանի որ գործողությունների շղթա չի առաջանում, իսկ\n",
    "add1 ֆունկցիան ռեկուրսիվ է,քանի որ առաջանում գործողությունների շղթա։    \n"
   ]
  },
  {
   "cell_type": "markdown",
   "id": "1008274f",
   "metadata": {},
   "source": [
    "Վարժություն 1.10\n",
    "Հաջորդ ֆունկցիան հաշվարկում է մաթեմատիկական ֆունկցիա, որը հայտնի է Ակերմանի ֆունկցիա անվամբ\n",
    "\n",
    ">>> def ackermann(x, y):\n",
    "\tif y == 0:\n",
    "\t\treturn 0\n",
    "\telif x == 0:\n",
    "\t\treturn 2 * y\n",
    "\telif y == 1:\n",
    "\t\treturn 2\n",
    "\telse:\n",
    "\t\treturn ackermann(x - 1, ackermann(x, y - 1))\n",
    "Ի՞նչ կլինի հետևյալ կանչերի արդյունքը\n",
    "\n",
    "ackermann(1, 5)\n",
    "Կլինի 32\n",
    "ackermann(2, 4)\n",
    "Կլինի 65536\n",
    "ackermann(3, 3)\n",
    "Կլինի 65536 \n"
   ]
  },
  {
   "cell_type": "code",
   "execution_count": 58,
   "id": "0f78e1b8",
   "metadata": {},
   "outputs": [
    {
     "name": "stdout",
     "output_type": "stream",
     "text": [
      "11\n"
     ]
    }
   ],
   "source": [
    "#Վարժություն 1.11\n",
    "def f(n):\n",
    "    if n>=0:\n",
    "        if n<3:\n",
    "            return n \n",
    "        else:\n",
    "            return f(n-1)+f(n-2)+f(n-3)\n",
    "    return None\n",
    "print(f(5))    \n"
   ]
  },
  {
   "cell_type": "code",
   "execution_count": 75,
   "id": "dba1616e",
   "metadata": {},
   "outputs": [
    {
     "name": "stdout",
     "output_type": "stream",
     "text": [
      "1\n"
     ]
    }
   ],
   "source": [
    "#Վարժություն 1.12\n",
    "def paskal(n,m):\n",
    "    if n>=0 and m!=0 and m-n<=1:  \n",
    "        if n==0 or m==1:\n",
    "            return 1\n",
    "        elif m==n+1:\n",
    "            return 1\n",
    "        else :\n",
    "            return paskal(n-1,m-1)+paskal(n-1,m)\n",
    "print(paskal(2,3))    \n"
   ]
  },
  {
   "cell_type": "code",
   "execution_count": null,
   "id": "0812bc15",
   "metadata": {},
   "outputs": [],
   "source": []
  }
 ],
 "metadata": {
  "kernelspec": {
   "display_name": "Python 3 (ipykernel)",
   "language": "python",
   "name": "python3"
  },
  "language_info": {
   "codemirror_mode": {
    "name": "ipython",
    "version": 3
   },
   "file_extension": ".py",
   "mimetype": "text/x-python",
   "name": "python",
   "nbconvert_exporter": "python",
   "pygments_lexer": "ipython3",
   "version": "3.9.7"
  }
 },
 "nbformat": 4,
 "nbformat_minor": 5
}
